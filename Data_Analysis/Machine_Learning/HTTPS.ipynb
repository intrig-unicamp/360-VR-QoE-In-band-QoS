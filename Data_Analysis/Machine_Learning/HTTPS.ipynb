{
 "cells": [
  {
   "cell_type": "markdown",
   "id": "4d69995c",
   "metadata": {},
   "source": [
    "### Import Library"
   ]
  },
  {
   "cell_type": "code",
   "execution_count": null,
   "id": "8304c11a",
   "metadata": {},
   "outputs": [],
   "source": [
    "import pandas as pd\n",
    "import numpy as np\n",
    "from autogluon.tabular import TabularDataset, TabularPredictor\n",
    "import sklearn\n",
    "import matplotlib.pyplot as plt\n",
    "import seaborn as sns\n",
    "import warnings\n",
    "warnings.filterwarnings(\"ignore\")"
   ]
  },
  {
   "cell_type": "markdown",
   "id": "e40fbae0",
   "metadata": {},
   "source": [
    "### Import Dataset\n"
   ]
  },
  {
   "cell_type": "code",
   "execution_count": null,
   "id": "45cce9b8",
   "metadata": {},
   "outputs": [],
   "source": [
    "# Note--> change the dataset path \n",
    "df= pd.read_csv('~/new_tcp-test1.csv')\n",
    "df.shape"
   ]
  },
  {
   "cell_type": "markdown",
   "id": "fcb9e336",
   "metadata": {},
   "source": [
    "### Features"
   ]
  },
  {
   "cell_type": "code",
   "execution_count": null,
   "id": "f3f01fc8",
   "metadata": {},
   "outputs": [],
   "source": [
    "X=df.filter(['TP_D_avg', 'TP_D_max', 'TP_D_min', 'TP_D_medn', 'TP_D_std', \n",
    "    'TP_D_10p', 'TP_D_20p', 'TP_D_30p', 'TP_D_40p', 'TP_D_50p', 'TP_D_60p', 'TP_D_70p', 'TP_D_80p', 'TP_D_90p',\n",
    "    'TP_D_F25_avg', 'TP_D_F50_avg', 'TP_D_L25_avg', 'TP_D_L50_avg',\n",
    "        \n",
    "        \n",
    "    'TP_D100_avg', 'TP_D100_max', 'TP_D100_min', 'TP_D100_medn', 'TP_D100_std', \n",
    "    'TP_D100_10p', 'TP_D100_20p', 'TP_D100_30p', 'TP_D100_40p', 'TP_D100_50p', 'TP_D100_60p', 'TP_D100_70p', 'TP_D100_80p', 'TP_D100_90p',\n",
    "    'TP_D100_F25_avg', 'TP_D100_F50_avg', 'TP_D100_L25_avg', 'TP_D100_L50_avg',\n",
    "        \n",
    "        \n",
    "    'TP_U_avg', 'TP_U_max', 'TP_U_min', 'TP_U_medn', 'TP_U_std', \n",
    "    'TP_U_10p', 'TP_U_20p', 'TP_U_30p', 'TP_U_40p', 'TP_U_50p', 'TP_U_60p', 'TP_U_70p', 'TP_U_80p', 'TP_U_90p',\n",
    "    'TP_U_F25_avg', 'TP_U_F50_avg', 'TP_U_L25_avg', 'TP_U_L50_avg',\n",
    "        \n",
    "    'TP_U100_avg', 'TP_U100_max', 'TP_U100_min', 'TP_U100_medn', 'TP_U100_std', \n",
    "    'TP_U100_10p', 'TP_U100_20p', 'TP_U100_30p', 'TP_U100_40p', 'TP_U100_50p', 'TP_U100_60p', 'TP_U100_70p', 'TP_U100_80p', 'TP_U100_90p',\n",
    "    'TP_U100_F25_avg', 'TP_U100_F50_avg', 'TP_U100_L25_avg', 'TP_U100_L50_avg',\n",
    "\n",
    "    'PC_D_total', 'PC_D_avg', 'PC_D_max', 'PC_D_min', 'PC_D_medn', 'PC_D_std', \n",
    "    'PC_D_10p', 'PC_D_20p', 'PC_D_30p', 'PC_D_40p', 'PC_D_50p', 'PC_D_60p', 'PC_D_70p', 'PC_D_80p', 'PC_D_90p',\n",
    "    'PC_D_F25_total', 'TP_D_F50_total', 'PC_D_L25_total', 'PC_D_L50_total',\n",
    "        \n",
    "    'PC_D100_total', 'PC_D100_avg', 'PC_D100_max', 'PC_D100_min', 'PC_D100_medn', 'PC_D100_std', \n",
    "    'PC_D100_10p', 'PC_D100_20p', 'PC_D100_30p', 'PC_D100_40p', 'PC_D100_50p', 'PC_D100_60p', 'PC_D100_70p', 'PC_D100_80p', 'PC_D100_90p',\n",
    "    'PC_D100_F25_total', 'TP_D100_F50_total', 'PC_D100_L25_total', 'PC_D100_L50_total',\n",
    "        \n",
    "    'PC_U_total', 'PC_U_avg', 'PC_U_max', 'PC_U_min', 'PC_U_medn', 'PC_U_std', \n",
    "    'PC_U_10p', 'PC_U_20p', 'PC_U_30p', 'PC_U_40p', 'PC_U_50p', 'PC_U_60p', 'PC_U_70p', 'PC_U_80p', 'PC_U_90p',\n",
    "    'PC_U_F25_total', 'TP_U_F50_total', 'PC_U_L25_total', 'PC_U_L50_total',\n",
    "        \n",
    "    'PC_U100_total', 'PC_U100_avg', 'PC_U100_max', 'PC_U100_min', 'PC_U100_medn', 'PC_U100_std', \n",
    "    'PC_U100_10p', 'PC_U100_20p', 'PC_U100_30p', 'PC_U100_40p', 'PC_U100_50p', 'PC_U100_60p', 'PC_U100_70p', 'PC_U100_80p', 'PC_U100_90p',\n",
    "    'PC_U100_F25_total', 'TP_U100_F50_total', 'PC_U100_L25_total', 'PC_U100_L50_total',\n",
    "\n",
    "\n",
    "    'PS_D_avg', 'PS_D_max', 'PS_D_min', 'PS_D_medn', 'PS_D_std', \n",
    "    'PS_D_10p', 'PS_D_20p', 'PS_D_30p', 'PS_D_40p', 'PS_D_50p', 'PS_D_60p', 'PS_D_70p', 'PS_D_80p', 'PS_D_90p',\n",
    "    'PS_D_F25_avg', 'PS_D_F50_avg', 'PS_D_L25_avg', 'PS_D_L50_avg',\n",
    "        \n",
    "    'PS_D100_avg', 'PS_D100_max', 'PS_D100_min', 'PS_D100_medn', 'PS_D100_std', \n",
    "    'PS_D100_10p', 'PS_D100_20p', 'PS_D100_30p', 'PS_D100_40p', 'PS_D100_50p', 'PS_D100_60p', 'PS_D100_70p', 'PS_D100_80p', 'PS_D100_90p',\n",
    "    'PS_D100_F25_avg', 'PS_D100_F50_avg', 'PS_D100_L25_avg', 'PS_D100_L50_avg',\n",
    "        \n",
    "    'PS_U_avg', 'PS_U_max', 'PS_U_min', 'PS_U_medn', 'PS_U_std', \n",
    "    'PS_U_10p', 'PS_U_20p', 'PS_U_30p', 'PS_U_40p', 'PS_U_50p', 'PS_U_60p', 'PS_U_70p', 'PS_U_80p', 'PS_U_90p',\n",
    "    'PS_U_F25_avg', 'PS_U_F50_avg', 'PS_U_L25_avg', 'PS_U_L50_avg',\n",
    "        \n",
    "    'PS_U100_avg', 'PS_U100_max', 'PS_U100_min', 'PS_U100_medn', 'PS_U100_std', \n",
    "    'PS_U100_10p', 'PS_U100_20p', 'PS_U100_30p', 'PS_U100_40p', 'PS_U100_50p', 'PS_U100_60p', 'PS_U100_70p', 'PS_U100_80p', 'PS_U100_90p',\n",
    "    'PS_U100_F25_avg', 'PS_U100_F50_avg', 'PS_U100_L25_avg', 'PS_U100_L50_avg',\n",
    "\n",
    "\n",
    "    'IAT_D_avg', 'IAT_D_max', 'IAT_D_min', 'IAT_D_medn', 'IAT_D_std', \n",
    "    'IAT_D_10p', 'IAT_D_20p', 'IAT_D_30p', 'IAT_D_40p', 'IAT_D_50p', 'IAT_D_60p', 'IAT_D_70p', 'IAT_D_80p', 'IAT_D_90p',\n",
    "    'IAT_D_F25_avg', 'IAT_D_F50_avg', 'IAT_D_L25_avg', 'IAT_D_L50_avg',\n",
    "        \n",
    "    'IAT_D100_avg', 'IAT_D100_max', 'IAT_D100_min', 'IAT_D100_medn', 'IAT_D100_std', \n",
    "    'IAT_D100_10p', 'IAT_D100_20p', 'IAT_D100_30p', 'IAT_D100_40p', 'IAT_D100_50p', 'IAT_D100_60p', 'IAT_D100_70p', 'IAT_D100_80p', 'IAT_D100_90p',\n",
    "    'IAT_D100_F25_avg', 'IAT_D100_F50_avg', 'IAT_D100_L25_avg', 'IAT_D100_L50_avg',\n",
    "        \n",
    "\n",
    "    'IAT_U_avg', 'IAT_U_max', 'IAT_U_min', 'IAT_U_medn', 'IAT_U_std', \n",
    "    'IAT_U_10p', 'IAT_U_20p', 'IAT_U_30p', 'IAT_U_40p', 'IAT_U_50p', 'IAT_U_60p', 'IAT_U_70p', 'IAT_U_80p', 'IAT_U_90p',\n",
    "    'IAT_U_F25_avg', 'IAT_U_F50_avg', 'IAT_U_L25_avg', 'IAT_U_L50_avg',\n",
    "        \n",
    "    'IAT_U100_avg', 'IAT_U100_max', 'IAT_U100_min', 'IAT_U100_medn', 'IAT_U100_std', \n",
    "    'IAT_U100_10p', 'IAT_U100_20p', 'IAT_U100_30p', 'IAT_U100_40p', 'IAT_U100_50p', 'IAT_U100_60p', 'IAT_U100_70p', 'IAT_U100_80p', 'IAT_U100_90p',\n",
    "    'IAT_U100_F25_avg', 'IAT_U100_F50_avg', 'IAT_U100_L25_avg', 'IAT_U100_L50_avg'], axis = 1)\n",
    "\n",
    "X"
   ]
  },
  {
   "cell_type": "markdown",
   "id": "8825184d",
   "metadata": {},
   "source": [
    "### Target"
   ]
  },
  {
   "cell_type": "code",
   "execution_count": null,
   "id": "3271ef37",
   "metadata": {},
   "outputs": [],
   "source": [
    "# average bitrate for zone 1\n",
    "label=' z1_bit'  \n",
    "\n",
    "if label == ' z1_bit':\n",
    "    df[' z1_bit'] = df[' z1_bit'].div(1048576) # convert in mbps\n",
    "    \n",
    "# average bitrate for zone 2    \n",
    "# label = ' z2_bit'  \n",
    "# if label == ' z2_bit':\n",
    "#     df[' z2_bit'] = df[' z2_bit'].div(1048576) # convert in mbps\n",
    "\n",
    "\n",
    "# average bitrate for zone 3\n",
    "# label = ' z3_bit'  \n",
    "# if label == ' z3_bit':\n",
    "#     df[' z3_bit'] = df[' z3_bit'].div(1048576) # convert in mbps\n",
    "\n",
    "# quality switch for zone 1\n",
    "#label = ' qt_sw_z1'  \n",
    "\n",
    "# quality switch for zone 2\n",
    "#label = ' qt_sw_z2'  \n",
    "\n",
    "# quality switch for zone 3\n",
    "#label = ' qt_sw_z3'  \n",
    "\n",
    "# cumulative stall time\n",
    "# label = ' total_stall'  \n",
    "\n",
    "\n",
    "# initial delay\n",
    "# label = ' start_time'  \n",
    "#if label == ' start_time':\n",
    "#    df[label] = df[label].multiply(1000) # convert  in millisec\n",
    "\n",
    "# normalized QoE 0-5\n",
    "#label = 'nQoE1'  \n",
    "\n",
    "y = df.filter([label], axis = 1)\n",
    "y.head(10)"
   ]
  },
  {
   "cell_type": "markdown",
   "id": "f1e8047e",
   "metadata": {},
   "source": [
    "### Split Dataset"
   ]
  },
  {
   "cell_type": "code",
   "execution_count": null,
   "id": "44c2f47c",
   "metadata": {},
   "outputs": [],
   "source": [
    "X_train, X_test, y_train, y_test = sklearn.model_selection.train_test_split(X, y, test_size=0.25, random_state=7)"
   ]
  },
  {
   "cell_type": "code",
   "execution_count": null,
   "id": "8d9c58da",
   "metadata": {},
   "outputs": [],
   "source": [
    "feature_names = X_train.columns\n",
    "\n",
    "train_data = X_train.copy()\n",
    "\n",
    "train_data[label] = y_train\n",
    "\n",
    "test_data = X_test.copy()\n",
    "\n",
    "display(train_data.head())"
   ]
  },
  {
   "cell_type": "code",
   "execution_count": null,
   "id": "b290e08b",
   "metadata": {},
   "outputs": [],
   "source": [
    "print(\"Summary of occupation column: \\n\", train_data[label].describe())"
   ]
  },
  {
   "cell_type": "code",
   "execution_count": null,
   "id": "9cc043dd",
   "metadata": {},
   "outputs": [],
   "source": [
    "train_data.columns[:-1]"
   ]
  },
  {
   "cell_type": "markdown",
   "id": "5b77d369",
   "metadata": {},
   "source": [
    "### Model Training"
   ]
  },
  {
   "cell_type": "code",
   "execution_count": null,
   "id": "91230e04",
   "metadata": {},
   "outputs": [],
   "source": [
    "presets='medium_quality_faster_train'\n",
    "#presets='high_quality_fast_inference_only_refit'\n",
    "time=1800\n",
    "filename=label+'-tcp'\n",
    "path=filename\n",
    "predictor = TabularPredictor(label=label, eval_metric='root_mean_squared_error', path=path, verbosity= 3, problem_type='regression').fit(train_data, presets=presets, num_bag_folds=10)"
   ]
  },
  {
   "cell_type": "code",
   "execution_count": null,
   "id": "f949fed0",
   "metadata": {},
   "outputs": [],
   "source": [
    "predictor = TabularPredictor.load(path)\n",
    "results = predictor.fit_summary(show_plot=True)\n",
    "predictor.get_model_best()"
   ]
  },
  {
   "cell_type": "markdown",
   "id": "2bc2e92a",
   "metadata": {},
   "source": [
    "### Model Testing"
   ]
  },
  {
   "cell_type": "code",
   "execution_count": null,
   "id": "d4b137ee",
   "metadata": {},
   "outputs": [],
   "source": [
    "test_data[label] = y_test\n",
    "    \n",
    "mo=predictor.leaderboard(test_data, silent=True)\n",
    "\n",
    "x=mo['model']"
   ]
  },
  {
   "cell_type": "code",
   "execution_count": null,
   "id": "843bfb47",
   "metadata": {},
   "outputs": [],
   "source": [
    "predictor.leaderboard(test_data, silent=True)"
   ]
  },
  {
   "cell_type": "markdown",
   "id": "3c8d0dea",
   "metadata": {},
   "source": [
    "### Create New Dataframe Including Actual and Predicted Values"
   ]
  },
  {
   "cell_type": "code",
   "execution_count": null,
   "id": "e8ae5dd1",
   "metadata": {},
   "outputs": [],
   "source": [
    "mod = x\n",
    "#mod= x.tolist()\n",
    "dataframe= pd.DataFrame()  \n",
    "dataframe['Actual']=y_test\n",
    "print(dataframe)\n",
    "cnt=0\n",
    "\n",
    "for m in range (len(mod)):\n",
    "    name = mod[m]\n",
    "    dataframe[name] = predictor.predict(test_data, model = str(name))\n",
    "    #print(type(y_pred))\n",
    "    cnt= cnt + 1\n",
    "    \n",
    "    test_data[label] = y_test\n",
    "    \n",
    "    print(\"Model name:\" + str(mod[m]))\n",
    "    \n",
    "    \n",
    "    performance = predictor.evaluate(test_data, auxiliary_metrics=True, model=str(mod[m]))\n",
    "    print(performance)\n",
    "    #perf = predictor.evaluate_predictions(y_true=y_valid, y_pred=y_pred, auxiliary_metrics=True)\n",
    "print(dataframe)"
   ]
  },
  {
   "cell_type": "markdown",
   "id": "919258a1",
   "metadata": {},
   "source": [
    "### Create New Dataframe Including Residual Error for All Model"
   ]
  },
  {
   "cell_type": "code",
   "execution_count": null,
   "id": "7ad89d96",
   "metadata": {},
   "outputs": [],
   "source": [
    "for m in range (len(mod)):\n",
    "    name = mod[m]\n",
    "    name1= str(name)+'-' + 'RE'\n",
    "    dataframe[name1] = ((abs(dataframe['Actual']- dataframe[name]))/np.mean(dataframe['Actual']))\n",
    "\n",
    "dataframe = dataframe.reset_index(drop=True)\n",
    "print(dataframe)\n",
    "\n",
    "\n",
    "df_new = pd.DataFrame(columns=[\"Model\", \"RE\"])\n",
    "cnt=0\n",
    "for m in range (len(mod)):\n",
    "    name = mod[m]\n",
    "    name1= str(name)+'-' + 'RE'\n",
    "    print(name1)\n",
    "    \n",
    "    for i in range (len(dataframe[name1])):\n",
    "        df_new.loc[cnt] = name1, dataframe[name1][i]\n",
    "        cnt=cnt+1\n",
    "        \n",
    "print(df_new)  "
   ]
  },
  {
   "cell_type": "markdown",
   "id": "2bb896be",
   "metadata": {},
   "source": [
    "### Exporting Residual Error Dataframe for Ensemble Model as Separate CSV File for Later Analysis"
   ]
  },
  {
   "cell_type": "code",
   "execution_count": null,
   "id": "c67778b8",
   "metadata": {},
   "outputs": [],
   "source": [
    "# df_new1=df_new\n",
    "# df_new1=df_new1.loc[df_new1['Model'] == 'WeightedEnsemble_L2-RE']\n",
    "\n",
    "# df_new1.loc[df_new1['Model'] == 'WeightedEnsemble_L2-RE' , 'Model'] ='QUIC'\n",
    "# df_new1\n",
    "# export_csv =df_new1.to_csv('~/https1.csv', index=False)"
   ]
  },
  {
   "cell_type": "markdown",
   "id": "249326de",
   "metadata": {},
   "source": [
    "### ECDF Plot for All Model"
   ]
  },
  {
   "cell_type": "code",
   "execution_count": null,
   "id": "0abfc98f",
   "metadata": {},
   "outputs": [],
   "source": [
    "fig, ax3 = plt.subplots(1, 1, figsize=(7, 5))\n",
    "\n",
    "sns.ecdfplot(\n",
    "    data=df_new, x=\"RE\", hue='Model',\n",
    "    ax=ax3)\n",
    "\n",
    "for lines, linestyle, legend_handle in zip(ax3.lines[::-1], [(0, (3, 1, 1, 1, 1, 1)), '--', '-.', ':',  'solid', 'dashed', 'dashdot'], ax3.legend_.legendHandles):\n",
    "    \n",
    "    lines.set_linestyle(linestyle)\n",
    "    \n",
    "    legend_handle.set_linestyle(linestyle)\n",
    "    \n",
    "ax3.set_title('Using linestyles')\n",
    "plt.tight_layout()\n",
    "plt.show()"
   ]
  },
  {
   "cell_type": "markdown",
   "id": "84fb7175",
   "metadata": {},
   "source": [
    "### Feature Importance"
   ]
  },
  {
   "cell_type": "code",
   "execution_count": null,
   "id": "81016e51",
   "metadata": {},
   "outputs": [],
   "source": [
    "fi = predictor.feature_importance(test_data)\n",
    "#fi = predictor.feature_importance(test_data, model='RandomForestMSE_BAG_L1')"
   ]
  },
  {
   "cell_type": "code",
   "execution_count": null,
   "id": "44dba0c0",
   "metadata": {},
   "outputs": [],
   "source": [
    "fi1=fi.head(10)\n",
    "print(fi)\n",
    "values=[fi1['importance'].values.tolist()]\n",
    "values =np.array(values)\n",
    "values"
   ]
  },
  {
   "cell_type": "code",
   "execution_count": null,
   "id": "2d4d3939",
   "metadata": {},
   "outputs": [],
   "source": [
    "labels = fi1.index.tolist()\n",
    "\n",
    "values=[fi1['importance'].values.tolist()]\n",
    "\n",
    "values =np.array(values)\n",
    "\n",
    "# fig, ax = plt.subplots(1, 1, figsize=(7, 5))\n",
    "\n",
    "# im = ax.pcolor(np.arange(len(labels)+1) - .5, [0, 1],  # center xticks like imshow\n",
    "#                values, cmap='Reds', edgecolors='grey', linewidths=1, data=None)\n",
    "# #cmap='spectral_r', N=n, symmetric=True, colorbar=side\n",
    "# # for spine in ax.spines.values():\n",
    "# #     spine.set_edgecolor('blue')\n",
    "\n",
    "# ax.set_xticklabels(labels)\n",
    "# ax.set_xticks( np.arange(len(labels)) )  # Show all data\n",
    "# ax.set_yticks([])  # No Y axis\n",
    "\n",
    "# ax.xaxis.tick_top()  # Put labels on top\n",
    "# plt.xticks(rotation=45, ha=\"left\", rotation_mode=\"anchor\")  # Rotate labels 45 deg\n",
    "# plt.axis('scaled')  # square pixels\n",
    "# ax.tick_params(axis='both', which='both', length=0)  # Hide ticks\n",
    "# plt.title('Zone 1 (Bit-rate)', loc='right', y=-0.7, x=0.6)\n",
    "\n",
    "# fig.tight_layout()\n",
    "# plt.show()\n",
    "# #plt.savefig(\"fi.pdf\")"
   ]
  },
  {
   "cell_type": "code",
   "execution_count": null,
   "id": "6c8eacea",
   "metadata": {},
   "outputs": [],
   "source": [
    "fig, ax = plt.subplots(1, 1, figsize=(7.5, 7.5))\n",
    "\n",
    "target = [label]\n",
    "labels =labels\n",
    "\n",
    "\n",
    "xLabels = labels\n",
    "#yLabels = [\"Z1-Quality\"] \n",
    "yLabels = target\n",
    "\n",
    "\n",
    "# explicit function to normalize array\n",
    "def normalize(arr, t_min, t_max):\n",
    "    norm_arr = []\n",
    "    diff = t_max - t_min\n",
    "    diff_arr = max(arr) - min(arr)    \n",
    "    for i in arr:\n",
    "        temp = (((i - min(arr))*diff)/diff_arr) + t_min\n",
    "        temp= float(\"{:.3f}\".format(temp))\n",
    "        norm_arr.append(temp)\n",
    "    return norm_arr\n",
    "  \n",
    "# gives range staring from 1 and ending at 3  \n",
    "array_1d = values.flatten()\n",
    "range_to_normalize = (0,1)\n",
    "normalized_array_1d = normalize(array_1d, \n",
    "                                range_to_normalize[0], \n",
    "                                range_to_normalize[1])\n",
    "  \n",
    "\n",
    "\n",
    "#summaryTable_np=[normalized_array_1d]\n",
    "summaryTable_np=[array_1d.tolist()]\n",
    "\n",
    "sns.heatmap(summaryTable_np, annot=True, linewidths=.9, square=True, \n",
    "                xticklabels=xLabels, yticklabels=yLabels, cmap='Reds',cbar=False)\n",
    "\n",
    "ax.xaxis.tick_top()  # Put labels on top\n",
    "plt.xticks(rotation=45, ha=\"left\",rotation_mode='default' )  # Rotate labels 45 deg\n",
    "\n",
    "ax.yaxis.tick_right()\n",
    "plt.yticks(rotation=0)  \n",
    "\n",
    "plt.title('', loc='right', y=-0.7, x=0.6)\n",
    "plt.show()"
   ]
  }
 ],
 "metadata": {
  "kernelspec": {
   "display_name": "Python 3",
   "language": "python",
   "name": "python3"
  },
  "language_info": {
   "codemirror_mode": {
    "name": "ipython",
    "version": 3
   },
   "file_extension": ".py",
   "mimetype": "text/x-python",
   "name": "python",
   "nbconvert_exporter": "python",
   "pygments_lexer": "ipython3",
   "version": "3.8.13"
  }
 },
 "nbformat": 4,
 "nbformat_minor": 5
}
